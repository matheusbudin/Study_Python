{
  "nbformat": 4,
  "nbformat_minor": 0,
  "metadata": {
    "colab": {
      "name": "Resolução-condicionais-aninhadas.ipynb",
      "provenance": [],
      "collapsed_sections": [],
      "include_colab_link": true
    },
    "kernelspec": {
      "name": "python3",
      "display_name": "Python 3"
    }
  },
  "cells": [
    {
      "cell_type": "markdown",
      "metadata": {
        "id": "view-in-github",
        "colab_type": "text"
      },
      "source": [
        "<a href=\"https://colab.research.google.com/github/matheusbudin/Study_Python/blob/main/Resolu%C3%A7%C3%A3o_condicionais_aninhadas.ipynb\" target=\"_parent\"><img src=\"https://colab.research.google.com/assets/colab-badge.svg\" alt=\"Open In Colab\"/></a>"
      ]
    },
    {
      "cell_type": "markdown",
      "metadata": {
        "id": "xK1Gn_i-Sjws"
      },
      "source": [
        "1.\tCrie um programa que receba dois valores inteiros e apresente como resposta qual destes números é o maior ou se eles são iguais."
      ]
    },
    {
      "cell_type": "code",
      "metadata": {
        "colab": {
          "base_uri": "https://localhost:8080/"
        },
        "id": "IrSQtGH5SdQx",
        "outputId": "7a6617a6-afff-42b0-d2ec-50108d1273a1"
      },
      "source": [
        "num1 = int(input('Digite um número: '))\n",
        "num2 = int(input('Digite outro número: '))\n",
        "\n",
        "if num1 > num2:\n",
        "  print('O número {} é maior que {}'.format(num1, num2))\n",
        "elif num2 > num1:\n",
        "  print('O número {} é maior que {}'.format(num2, num1))\n",
        "else: \n",
        "  print('Os números são IGUAIS')"
      ],
      "execution_count": null,
      "outputs": [
        {
          "output_type": "stream",
          "text": [
            "Digite um número: 5\n",
            "Digite outro número: 5\n",
            "Os números são IGUAIS\n"
          ],
          "name": "stdout"
        }
      ]
    },
    {
      "cell_type": "markdown",
      "metadata": {
        "id": "rKNxqo3VTLJF"
      },
      "source": [
        "2.\tCrie um código que receba a qual o nível de escolaridade de uma pessoa e escreva qual seria um próximo passo de estudo para ela sendo: se é formado no ensino médio um próximo passo é a faculdade; formado na faculdade, o próximo passo mestrado; formado em mestrado, doutorado; se for doutor imprima uma mensagem de parabéns."
      ]
    },
    {
      "cell_type": "code",
      "metadata": {
        "colab": {
          "base_uri": "https://localhost:8080/"
        },
        "id": "5OyNnAYBTNmS",
        "outputId": "84881b62-d24e-466b-a0c1-0236d2a393ab"
      },
      "source": [
        "nivel = input('''Qual seu nível de escolaridade: \n",
        "- Ensino Médio\n",
        "- Faculdade\n",
        "- Mestrado\n",
        "-Doutorado: ''').upper()\n",
        "\n",
        "if nivel == 'ENSINO MÉDIO':\n",
        "  print('Um próximo passo para sua vida escolar pode ser uma FACULDADE')\n",
        "elif nivel == 'FACULDADE':\n",
        "  print('Um próximo passo para sua vida escolar pode ser um MESTRADO')\n",
        "elif nivel == 'MESTRADO':\n",
        "  print('Um próximo passo para sua vida escolar pode ser um DOUTORADO')\n",
        "elif nivel == 'DOUTORADO':\n",
        "  print('Que sucesso em!')\n",
        "else: \n",
        "  print('Resposta inválida')"
      ],
      "execution_count": null,
      "outputs": [
        {
          "output_type": "stream",
          "text": [
            "Qual seu nível de escolaridade: \n",
            "- Ensino Médio\n",
            "- Faculdade\n",
            "- Mestrado\n",
            "-Doutorado: técnico\n",
            "Resposta inválida\n"
          ],
          "name": "stdout"
        }
      ]
    },
    {
      "cell_type": "markdown",
      "metadata": {
        "id": "Ppv9ISAYUM8-"
      },
      "source": [
        "3.\tEscreva um código que receba três notas de um aluno, calcule a média aritmética destes valores e por fim mostre uma mensagem seguindo os critérios a seguir: média abaixo de 5.0 REPROVADO; média maior que 5.0, mas menor que 7.0 RECUPERAÇÃO; média maior ou igual a 7.0 APROVADO!"
      ]
    },
    {
      "cell_type": "code",
      "metadata": {
        "colab": {
          "base_uri": "https://localhost:8080/"
        },
        "id": "vfW68ZggUQVS",
        "outputId": "e8117f22-3ab0-482f-e47a-7c8b71f9fc4b"
      },
      "source": [
        "n1 = float(input('Insira a 1ª nota: '))\n",
        "n2 = float(input('Insira a 2ª nota: '))\n",
        "n3 = float(input('Insira a 3ª nota: '))\n",
        "\n",
        "media = (n1 + n2 + n3) / 3\n",
        "\n",
        "if media < 5:\n",
        "  print('Aluno REPROVADO! Média = {:.1f}'.format(media))\n",
        "elif media > 5 and media < 7:\n",
        "  print('Aluno de RECUPERAÇÃO.  Média = {:.1f}'.format(media))\n",
        "else:\n",
        "  print('Aluno APROVADO! Média = {:.1f}'.format(media))"
      ],
      "execution_count": null,
      "outputs": [
        {
          "output_type": "stream",
          "text": [
            "Insira a 1ª nota: 8.5\n",
            "Insira a 2ª nota: 6.9\n",
            "Insira a 3ª nota: 7.5\n",
            "Aluno APROVADO! Média = 7.6\n"
          ],
          "name": "stdout"
        }
      ]
    },
    {
      "cell_type": "markdown",
      "metadata": {
        "id": "g7NcDncR6zOo"
      },
      "source": [
        "4.\tUma escola de inglês gostaria de classificar os alunos cadastrados no seu sistema nas respectivas turmas por idade. Crie um programa que receba a idade do aluno e mostre a categoria à que pertence seguindo a classificação abaixo:\n",
        "Turma Infantil: de 5 a 10 anos\n",
        "Turma Júnior: de 11 a 13 anos\n",
        "Turma Teen: de 14 a 18 anos\n",
        "Turma Sênior: de 19 a 60 anos\n",
        "Turma Master: acima de 60 anos\n"
      ]
    },
    {
      "cell_type": "code",
      "metadata": {
        "colab": {
          "base_uri": "https://localhost:8080/"
        },
        "id": "12o13qer63fH",
        "outputId": "3753081f-eaa7-423e-874f-9cff0731d64f"
      },
      "source": [
        "idade = int(input('Digite a idade do aluno: '))\n",
        "\n",
        "if idade >= 5 and idade <= 10:\n",
        "  print('Classificação: INFANTIL')\n",
        "elif idade >= 11 and idade <= 13:\n",
        "  print('Classificação: JÚNIOR')\n",
        "elif idade >= 14 and idade <= 18:\n",
        "  print('Classificação: TEEN')\n",
        "elif idade >= 19 and idade <= 60:\n",
        "  print('Classificação: SÊNIOR')\n",
        "else:\n",
        "  print('Classificação: MASTÊR')"
      ],
      "execution_count": null,
      "outputs": [
        {
          "output_type": "stream",
          "text": [
            "Digite a idade do aluno: 25\n",
            "Classificação: SÊNIOR\n"
          ],
          "name": "stdout"
        }
      ]
    },
    {
      "cell_type": "markdown",
      "metadata": {
        "id": "4yF7Dcwq7jmA"
      },
      "source": [
        "5.\t Faça um Programa que pergunte em que turno você estuda. Peça para digitar M- matutino ou V -Vespertino ou N- Noturno. Imprima a mensagem \"Bom Dia!\", \"Boa Tarde!\" ou \"Boa Noite!\" respectivamente, ou \"Valor Inválido!\" se não for inserida nenhuma das programações válidas."
      ]
    },
    {
      "cell_type": "code",
      "metadata": {
        "colab": {
          "base_uri": "https://localhost:8080/"
        },
        "id": "Wt5oFPJi7mW_",
        "outputId": "c3547056-c388-4d78-9ff4-d6ee8f88b93d"
      },
      "source": [
        "periodo = input('''Qual seu turno de aula? \n",
        "[ M ] Matutino\n",
        "[ V ] Vespertino\n",
        "[ N ] Noturno: ''').upper() #deixa maiúsculo\n",
        "\n",
        "if periodo == 'M':\n",
        "  print('BOM DIA! Boa aula.')\n",
        "elif periodo == 'V':\n",
        "  print('BOA TARDE! Boa aula.')\n",
        "elif periodo == 'N':\n",
        "  print('BOA NOITE! Boa aula.')\n",
        "else: #resposta inválida\n",
        "  print('Resposta inválida')"
      ],
      "execution_count": null,
      "outputs": [
        {
          "output_type": "stream",
          "text": [
            "Qual seu turno de aula? \n",
            "[ M ] Matutino\n",
            "[ V ] Vespertino\n",
            "[ N ] Noturno: n\n",
            "BOA NOITE! Boa aula.\n"
          ],
          "name": "stdout"
        }
      ]
    },
    {
      "cell_type": "markdown",
      "metadata": {
        "id": "6FzWxLot1f0Z"
      },
      "source": [
        "6.\tCom base no exercício 10 da Lista de Exercícios – Condicionais Simples, crie um código que verifique se três retas inseridas pelo usuário podem formar um triângulo e qual tipo de triângulo seria esse. Um triângulo pode ser EQUILÁTERO: três lados iguais; ISÓSCELES: dois lados iguais ou ESCALENO: os três lados diferentes."
      ]
    },
    {
      "cell_type": "code",
      "metadata": {
        "id": "8bzjR8P11fFO"
      },
      "source": [
        "l1= float(input('Primeiro segmento: '))\n",
        "l2= float(input('Segundo segmento: '))\n",
        "l3= float(input('Terceiro segmento: '))\n",
        "\n",
        "if l1 < l2 + l3 and l2 < l1 + l3 and l3 < l1 + l2: #podem formar um triângulo\n",
        "    print('Os segmentos podem formar um triângulo ', end='') #coloca o proximo print em seguida\n",
        "    \n",
        "    if l1 != l2 and l1 != l3 and l2 != l3: #todos os lados diferentes\n",
        "        print('ESCALENO')\n",
        "    elif l1 == l2 == l3: #lados iguais\n",
        "        print('EQUILÁTERO')\n",
        "    else: #dois lados iguais\n",
        "        print('ISÓSCELES')\n",
        "else:\n",
        "    print('Os segmentos NÃO formam um triâgulo.')\n"
      ],
      "execution_count": null,
      "outputs": []
    },
    {
      "cell_type": "markdown",
      "metadata": {
        "id": "LQ55Y-748mcL"
      },
      "source": [
        "7.\tCrie um algoritmo que receba o valor de uma prestação que está atrasada e quantos dias de atraso. Para calcular o reajuste da prestação com juros você deve seguir as seguintes regras: se o atraso for de até 3 dias, o juro será de 2% ao dia; se o atraso for de 4 a 6 dias, o juro diário é de 4%; e se passar de uma semana de atraso, o juro diário será de 10%. Apresente o novo valor da parcela com os juros ao cliente."
      ]
    },
    {
      "cell_type": "code",
      "metadata": {
        "colab": {
          "base_uri": "https://localhost:8080/"
        },
        "id": "wQUBcvt-8nVA",
        "outputId": "00b36aba-8a5b-4ff8-ade6-5db90681795a"
      },
      "source": [
        "parcela = float(input('Valor da prestação: R$'))\n",
        "dias = int(input('Dias de atraso: '))\n",
        "\n",
        "if dias <= 3:\n",
        "  juro = (1 + 0.02) ** dias #juro composto, pq é cada dia + 2%\n",
        "  novo = parcela * juro\n",
        "  print('A parcela será de R${:.2f}. Um juro de R${:.2f}'.format(novo, novo - parcela))\n",
        "elif dias >= 4 and dias <= 6:\n",
        "  juro = (1 + 0.04) ** dias #juro composto, pq é cada dia + 4%\n",
        "  novo = parcela * juro\n",
        "  print('A parcela será de R${:.2f}. Um juro de R${:.2f}'.format(novo, novo - parcela))\n",
        "else:\n",
        "  juro = (1 + 0.1) ** dias #juro composto, pq é cada dia + 10%\n",
        "  novo = parcela * juro\n",
        "  print('A parcela será de R${:.2f}. Um juro de R${:.2f}'.format(novo, novo - parcela))"
      ],
      "execution_count": null,
      "outputs": [
        {
          "output_type": "stream",
          "text": [
            "Valor da prestação: R$7777\n",
            "Dias de atraso: 1\n",
            "A parcela será de R$7932.54. Um juro de R$155.54\n"
          ],
          "name": "stdout"
        }
      ]
    }
  ]
}