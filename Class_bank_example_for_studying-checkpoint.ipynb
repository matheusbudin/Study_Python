{
 "cells": [
  {
   "cell_type": "markdown",
   "id": "53298e9c",
   "metadata": {},
   "source": [
    "# Bank class example - Python Study\n"
   ]
  },
  {
   "cell_type": "code",
   "execution_count": 2,
   "id": "1c362d4e",
   "metadata": {},
   "outputs": [
    {
     "name": "stdout",
     "output_type": "stream",
     "text": [
      "Personal Details\n",
      "\n",
      "Name  Matheus\n",
      "Age   28\n",
      "Gender  Male\n"
     ]
    }
   ],
   "source": [
    "#Parent Class\n",
    "class User():\n",
    "    def __init__(self,name,age,gender):\n",
    "        self.name = name\n",
    "        self.age  = age\n",
    "        self.gender = gender\n",
    "\n",
    "    def show_details(self):\n",
    "        print(\"Personal Details\")\n",
    "        print(\"\")\n",
    "        print(\"Name \", self.name)\n",
    "        print(\"Age  \", self.age)\n",
    "        print(\"Gender \", self.gender)\n",
    "\n",
    "    \n",
    "#Child Class\n",
    "class Bank(User):\n",
    "    def __init__(self,name,age,gender):\n",
    "        super().__init__(name,age,gender)\n",
    "        self.balance = 0\n",
    "\n",
    "    def deposit(self,amount):\n",
    "        self.amount = amount\n",
    "        self.balance = self.balance + self.amount\n",
    "        print(\"Account balance has been updated : USD\", self.balance)\n",
    "\n",
    "    def withdraw(self,amount):\n",
    "        self.amount = amount\n",
    "        if self.amount > self.balance:\n",
    "            print(\"Insufficient Funds | Balance Available : USD\", self.balance)\n",
    "        else:\n",
    "            self.balance = self.balance - self.amount\n",
    "            print(\"Account balance has been updated : USD\", self.balance)\n",
    "    \n",
    "    def view_balance(self):\n",
    "        self.show_details()\n",
    "        print(\"Account balance: USD\", self.balance)\n",
    "\n",
    "Matheus = User('Matheus', 28, 'Male')\n",
    "Matheus.show_details()"
   ]
  },
  {
   "cell_type": "code",
   "execution_count": null,
   "id": "8c990d46",
   "metadata": {},
   "outputs": [],
   "source": []
  }
 ],
 "metadata": {
  "kernelspec": {
   "display_name": "Python 3 (ipykernel)",
   "language": "python",
   "name": "python3"
  },
  "language_info": {
   "codemirror_mode": {
    "name": "ipython",
    "version": 3
   },
   "file_extension": ".py",
   "mimetype": "text/x-python",
   "name": "python",
   "nbconvert_exporter": "python",
   "pygments_lexer": "ipython3",
   "version": "3.9.7"
  }
 },
 "nbformat": 4,
 "nbformat_minor": 5
}
